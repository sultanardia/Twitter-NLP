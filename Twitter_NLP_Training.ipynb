{
  "nbformat": 4,
  "nbformat_minor": 0,
  "metadata": {
    "colab": {
      "name": "Twitter NLP Training.ipynb",
      "provenance": [],
      "collapsed_sections": [],
      "toc_visible": true,
      "mount_file_id": "1fAEuBSuKTsT_9IokVkDEfyY45_ZmZTKw",
      "authorship_tag": "ABX9TyMu/Rvt/z5qLR+J7QgsGHJ7",
      "include_colab_link": true
    },
    "kernelspec": {
      "display_name": "Python 3",
      "name": "python3"
    },
    "language_info": {
      "name": "python"
    }
  },
  "cells": [
    {
      "cell_type": "markdown",
      "metadata": {
        "id": "view-in-github",
        "colab_type": "text"
      },
      "source": [
        "<a href=\"https://colab.research.google.com/github/sultanardia/Twitter-NLP/blob/main/Twitter_NLP_Training.ipynb\" target=\"_parent\"><img src=\"https://colab.research.google.com/assets/colab-badge.svg\" alt=\"Open In Colab\"/></a>"
      ]
    },
    {
      "cell_type": "markdown",
      "metadata": {
        "id": "Mo5zJdtzemrd"
      },
      "source": [
        "# Prepare Dataset"
      ]
    },
    {
      "cell_type": "markdown",
      "metadata": {
        "id": "Xx4ssERbIRoy"
      },
      "source": [
        "## Import Dependencies"
      ]
    },
    {
      "cell_type": "code",
      "metadata": {
        "colab": {
          "base_uri": "https://localhost:8080/"
        },
        "id": "cry0qbFlvalP",
        "outputId": "99f49c81-7ade-4649-8b56-df1868d8d051"
      },
      "source": [
        "!pip install sastrawi"
      ],
      "execution_count": null,
      "outputs": [
        {
          "output_type": "stream",
          "name": "stdout",
          "text": [
            "Collecting sastrawi\n",
            "  Downloading Sastrawi-1.0.1-py2.py3-none-any.whl (209 kB)\n",
            "\u001b[?25l\r\u001b[K     |█▋                              | 10 kB 26.1 MB/s eta 0:00:01\r\u001b[K     |███▏                            | 20 kB 29.7 MB/s eta 0:00:01\r\u001b[K     |████▊                           | 30 kB 19.4 MB/s eta 0:00:01\r\u001b[K     |██████▎                         | 40 kB 16.6 MB/s eta 0:00:01\r\u001b[K     |███████▉                        | 51 kB 7.4 MB/s eta 0:00:01\r\u001b[K     |█████████▍                      | 61 kB 7.2 MB/s eta 0:00:01\r\u001b[K     |███████████                     | 71 kB 7.5 MB/s eta 0:00:01\r\u001b[K     |████████████▌                   | 81 kB 8.4 MB/s eta 0:00:01\r\u001b[K     |██████████████                  | 92 kB 8.9 MB/s eta 0:00:01\r\u001b[K     |███████████████▋                | 102 kB 6.9 MB/s eta 0:00:01\r\u001b[K     |█████████████████▏              | 112 kB 6.9 MB/s eta 0:00:01\r\u001b[K     |██████████████████▊             | 122 kB 6.9 MB/s eta 0:00:01\r\u001b[K     |████████████████████▎           | 133 kB 6.9 MB/s eta 0:00:01\r\u001b[K     |█████████████████████▉          | 143 kB 6.9 MB/s eta 0:00:01\r\u001b[K     |███████████████████████▍        | 153 kB 6.9 MB/s eta 0:00:01\r\u001b[K     |█████████████████████████       | 163 kB 6.9 MB/s eta 0:00:01\r\u001b[K     |██████████████████████████▋     | 174 kB 6.9 MB/s eta 0:00:01\r\u001b[K     |████████████████████████████▏   | 184 kB 6.9 MB/s eta 0:00:01\r\u001b[K     |█████████████████████████████▊  | 194 kB 6.9 MB/s eta 0:00:01\r\u001b[K     |███████████████████████████████▎| 204 kB 6.9 MB/s eta 0:00:01\r\u001b[K     |████████████████████████████████| 209 kB 6.9 MB/s \n",
            "\u001b[?25hInstalling collected packages: sastrawi\n",
            "Successfully installed sastrawi-1.0.1\n"
          ]
        }
      ]
    },
    {
      "cell_type": "code",
      "metadata": {
        "id": "ETEQNctWme41",
        "colab": {
          "base_uri": "https://localhost:8080/"
        },
        "outputId": "a15d4ce9-7fdb-4a83-ed12-dcd6d62f3f7f"
      },
      "source": [
        "import pandas as pd\n",
        "import re\n",
        "from wordcloud import WordCloud, STOPWORDS, ImageColorGenerator\n",
        "import matplotlib.pyplot as plt\n",
        "\n",
        "# NLTK libraries\n",
        "import nltk\n",
        "nltk.download('stopwords')\n",
        "from nltk.corpus import stopwords\n",
        "\n",
        "# Sastrawi library\n",
        "from Sastrawi.StopWordRemover.StopWordRemoverFactory import StopWordRemoverFactory\n",
        "\n",
        "from sklearn.preprocessing import LabelEncoder\n",
        "from sklearn.model_selection import train_test_split\n",
        "from sklearn.feature_extraction.text import TfidfVectorizer\n",
        "from sklearn.feature_extraction.text import TfidfTransformer\n",
        "import numpy as np\n",
        "from sklearn.feature_extraction.text import CountVectorizer\n",
        "from sklearn.metrics import confusion_matrix\n",
        "from sklearn.svm import SVC\n",
        "from sklearn.neighbors import KNeighborsClassifier\n",
        "from sklearn.naive_bayes import GaussianNB\n",
        "from sklearn.metrics import accuracy_score"
      ],
      "execution_count": null,
      "outputs": [
        {
          "output_type": "stream",
          "name": "stdout",
          "text": [
            "[nltk_data] Downloading package stopwords to /root/nltk_data...\n",
            "[nltk_data]   Unzipping corpora/stopwords.zip.\n"
          ]
        }
      ]
    },
    {
      "cell_type": "markdown",
      "metadata": {
        "id": "Xg628df3Lze2"
      },
      "source": [
        "## Instance the function"
      ]
    },
    {
      "cell_type": "code",
      "metadata": {
        "id": "10p-oN1PMHcb"
      },
      "source": [
        "def clean_multiple_space(series):\n",
        "  return series.str.replace('\\s+', ' ')\n",
        "\n",
        "def clean_punctuation(series):\n",
        "  return series.str.replace('[^\\w\\s-]', '')\n",
        "\n",
        "def lowercase(series):\n",
        "  return series.apply(lambda x : x.lower())"
      ],
      "execution_count": null,
      "outputs": []
    },
    {
      "cell_type": "markdown",
      "metadata": {
        "id": "c-AkTWu1swjt"
      },
      "source": [
        "## Collecting dataset"
      ]
    },
    {
      "cell_type": "markdown",
      "metadata": {
        "id": "bhZlvGI7s2YW"
      },
      "source": [
        "### Read dataset"
      ]
    },
    {
      "cell_type": "markdown",
      "metadata": {
        "id": "Jw12VwZ8twJd"
      },
      "source": [
        "Instagram cyberbullying dataset"
      ]
    },
    {
      "cell_type": "code",
      "metadata": {
        "colab": {
          "base_uri": "https://localhost:8080/",
          "height": 206
        },
        "id": "0zKVnOzvs5uP",
        "outputId": "5b266d0e-f320-4553-8aef-36313fe567fa"
      },
      "source": [
        "df_ins_raw = pd.read_csv('drive/MyDrive/Dataset/Dataset-Sentimen-Analisis-Bahasa-Indonesia-master/dataset_komentar_instagram_cyberbullying.csv')\n",
        "df_ins = df_ins_raw[['Sentiment', 'Instagram Comment Text']]\n",
        "df_ins.columns = ['sentiment', 'raw_text']\n",
        "df_ins.head()"
      ],
      "execution_count": null,
      "outputs": [
        {
          "output_type": "execute_result",
          "data": {
            "text/html": [
              "<div>\n",
              "<style scoped>\n",
              "    .dataframe tbody tr th:only-of-type {\n",
              "        vertical-align: middle;\n",
              "    }\n",
              "\n",
              "    .dataframe tbody tr th {\n",
              "        vertical-align: top;\n",
              "    }\n",
              "\n",
              "    .dataframe thead th {\n",
              "        text-align: right;\n",
              "    }\n",
              "</style>\n",
              "<table border=\"1\" class=\"dataframe\">\n",
              "  <thead>\n",
              "    <tr style=\"text-align: right;\">\n",
              "      <th></th>\n",
              "      <th>sentiment</th>\n",
              "      <th>raw_text</th>\n",
              "    </tr>\n",
              "  </thead>\n",
              "  <tbody>\n",
              "    <tr>\n",
              "      <th>0</th>\n",
              "      <td>negative</td>\n",
              "      <td>&lt;USERNAME&gt; TOLOL!! Gak ada hubungan nya kegug...</td>\n",
              "    </tr>\n",
              "    <tr>\n",
              "      <th>1</th>\n",
              "      <td>negative</td>\n",
              "      <td>Geblek lo tata...cowo bgt dibela2in balikan......</td>\n",
              "    </tr>\n",
              "    <tr>\n",
              "      <th>2</th>\n",
              "      <td>negative</td>\n",
              "      <td>Kmrn termewek2 skr lengket lg duhhh kok labil ...</td>\n",
              "    </tr>\n",
              "    <tr>\n",
              "      <th>3</th>\n",
              "      <td>negative</td>\n",
              "      <td>Intinya kalau kesel dengan ATT nya, gausah ke ...</td>\n",
              "    </tr>\n",
              "    <tr>\n",
              "      <th>4</th>\n",
              "      <td>negative</td>\n",
              "      <td>hadewwwww permpuan itu lg!!!!sakit jiwa,knp ha...</td>\n",
              "    </tr>\n",
              "  </tbody>\n",
              "</table>\n",
              "</div>"
            ],
            "text/plain": [
              "  sentiment                                           raw_text\n",
              "0  negative   <USERNAME> TOLOL!! Gak ada hubungan nya kegug...\n",
              "1  negative  Geblek lo tata...cowo bgt dibela2in balikan......\n",
              "2  negative  Kmrn termewek2 skr lengket lg duhhh kok labil ...\n",
              "3  negative  Intinya kalau kesel dengan ATT nya, gausah ke ...\n",
              "4  negative  hadewwwww permpuan itu lg!!!!sakit jiwa,knp ha..."
            ]
          },
          "metadata": {},
          "execution_count": 4
        }
      ]
    },
    {
      "cell_type": "markdown",
      "metadata": {
        "id": "n_zTAjSbumdJ"
      },
      "source": [
        "TV dataset"
      ]
    },
    {
      "cell_type": "code",
      "metadata": {
        "colab": {
          "base_uri": "https://localhost:8080/",
          "height": 206
        },
        "id": "jyc5TtyCupYE",
        "outputId": "c35db6c4-c375-4c9b-dde9-8d3e69b6fc6e"
      },
      "source": [
        "df_tv_raw = pd.read_csv('drive/MyDrive/Dataset/Dataset-Sentimen-Analisis-Bahasa-Indonesia-master/dataset_tweet_sentimen_tayangan_tv.csv')\n",
        "df_tv = df_tv_raw[['Sentiment', 'Text Tweet']]\n",
        "df_tv.columns = ['sentiment', 'raw_text']\n",
        "df_tv.head()"
      ],
      "execution_count": null,
      "outputs": [
        {
          "output_type": "execute_result",
          "data": {
            "text/html": [
              "<div>\n",
              "<style scoped>\n",
              "    .dataframe tbody tr th:only-of-type {\n",
              "        vertical-align: middle;\n",
              "    }\n",
              "\n",
              "    .dataframe tbody tr th {\n",
              "        vertical-align: top;\n",
              "    }\n",
              "\n",
              "    .dataframe thead th {\n",
              "        text-align: right;\n",
              "    }\n",
              "</style>\n",
              "<table border=\"1\" class=\"dataframe\">\n",
              "  <thead>\n",
              "    <tr style=\"text-align: right;\">\n",
              "      <th></th>\n",
              "      <th>sentiment</th>\n",
              "      <th>raw_text</th>\n",
              "    </tr>\n",
              "  </thead>\n",
              "  <tbody>\n",
              "    <tr>\n",
              "      <th>0</th>\n",
              "      <td>positive</td>\n",
              "      <td>Undang @N_ShaniJKT48 ke hitamputih, pemenang S...</td>\n",
              "    </tr>\n",
              "    <tr>\n",
              "      <th>1</th>\n",
              "      <td>positive</td>\n",
              "      <td>Selamat berbuka puasa Semoga amal ibadah hari ...</td>\n",
              "    </tr>\n",
              "    <tr>\n",
              "      <th>2</th>\n",
              "      <td>positive</td>\n",
              "      <td>Ada nih di trans7 hitam putih, dia dpt penghar...</td>\n",
              "    </tr>\n",
              "    <tr>\n",
              "      <th>3</th>\n",
              "      <td>positive</td>\n",
              "      <td>selamat ya mas @adietaufan masuk hitamputih</td>\n",
              "    </tr>\n",
              "    <tr>\n",
              "      <th>4</th>\n",
              "      <td>positive</td>\n",
              "      <td>Asiknya nonton Hitam Putih Trans7</td>\n",
              "    </tr>\n",
              "  </tbody>\n",
              "</table>\n",
              "</div>"
            ],
            "text/plain": [
              "  sentiment                                           raw_text\n",
              "0  positive  Undang @N_ShaniJKT48 ke hitamputih, pemenang S...\n",
              "1  positive  Selamat berbuka puasa Semoga amal ibadah hari ...\n",
              "2  positive  Ada nih di trans7 hitam putih, dia dpt penghar...\n",
              "3  positive        selamat ya mas @adietaufan masuk hitamputih\n",
              "4  positive                  Asiknya nonton Hitam Putih Trans7"
            ]
          },
          "metadata": {},
          "execution_count": 5
        }
      ]
    },
    {
      "cell_type": "markdown",
      "metadata": {
        "id": "pI2Wquxuuwnu"
      },
      "source": [
        "Cellular provider dataset"
      ]
    },
    {
      "cell_type": "code",
      "metadata": {
        "colab": {
          "base_uri": "https://localhost:8080/",
          "height": 206
        },
        "id": "4EPNspriu3NV",
        "outputId": "fccf92c8-833e-47c2-bd01-a932fa66b020"
      },
      "source": [
        "df_cell_raw = pd.read_csv('drive/MyDrive/Dataset/Dataset-Sentimen-Analisis-Bahasa-Indonesia-master/dataset_tweet_sentiment_cellular_service_provider.csv')\n",
        "df_cell = df_cell_raw[['Sentiment', 'Text Tweet']]\n",
        "df_cell.columns = ['sentiment', 'raw_text']\n",
        "df_cell.head()"
      ],
      "execution_count": null,
      "outputs": [
        {
          "output_type": "execute_result",
          "data": {
            "text/html": [
              "<div>\n",
              "<style scoped>\n",
              "    .dataframe tbody tr th:only-of-type {\n",
              "        vertical-align: middle;\n",
              "    }\n",
              "\n",
              "    .dataframe tbody tr th {\n",
              "        vertical-align: top;\n",
              "    }\n",
              "\n",
              "    .dataframe thead th {\n",
              "        text-align: right;\n",
              "    }\n",
              "</style>\n",
              "<table border=\"1\" class=\"dataframe\">\n",
              "  <thead>\n",
              "    <tr style=\"text-align: right;\">\n",
              "      <th></th>\n",
              "      <th>sentiment</th>\n",
              "      <th>raw_text</th>\n",
              "    </tr>\n",
              "  </thead>\n",
              "  <tbody>\n",
              "    <tr>\n",
              "      <th>0</th>\n",
              "      <td>positive</td>\n",
              "      <td>&lt;USER_MENTION&gt; #BOIKOT_&lt;PROVIDER_NAME&gt; Gunakan...</td>\n",
              "    </tr>\n",
              "    <tr>\n",
              "      <th>1</th>\n",
              "      <td>positive</td>\n",
              "      <td>Saktinya balik lagi, alhamdulillah :v &lt;PROVIDE...</td>\n",
              "    </tr>\n",
              "    <tr>\n",
              "      <th>2</th>\n",
              "      <td>negative</td>\n",
              "      <td>Selamat pagi &lt;PROVIDER_NAME&gt;  bisa bantu kenap...</td>\n",
              "    </tr>\n",
              "    <tr>\n",
              "      <th>3</th>\n",
              "      <td>negative</td>\n",
              "      <td>Dear &lt;PROVIDER_NAME&gt; akhir2 ini jaringan data ...</td>\n",
              "    </tr>\n",
              "    <tr>\n",
              "      <th>4</th>\n",
              "      <td>negative</td>\n",
              "      <td>Selamat malam PENDUSTA &lt;PROVIDER_NAME&gt;</td>\n",
              "    </tr>\n",
              "  </tbody>\n",
              "</table>\n",
              "</div>"
            ],
            "text/plain": [
              "  sentiment                                           raw_text\n",
              "0  positive  <USER_MENTION> #BOIKOT_<PROVIDER_NAME> Gunakan...\n",
              "1  positive  Saktinya balik lagi, alhamdulillah :v <PROVIDE...\n",
              "2  negative  Selamat pagi <PROVIDER_NAME>  bisa bantu kenap...\n",
              "3  negative  Dear <PROVIDER_NAME> akhir2 ini jaringan data ...\n",
              "4  negative            Selamat malam PENDUSTA <PROVIDER_NAME> "
            ]
          },
          "metadata": {},
          "execution_count": 6
        }
      ]
    },
    {
      "cell_type": "markdown",
      "metadata": {
        "id": "hs3fhQx5t3aB"
      },
      "source": [
        "Film opinion dataset"
      ]
    },
    {
      "cell_type": "code",
      "metadata": {
        "colab": {
          "base_uri": "https://localhost:8080/",
          "height": 206
        },
        "id": "kRAvtR5ct63A",
        "outputId": "4c77f035-8b47-435c-c6c9-393231553645"
      },
      "source": [
        "df_film_raw = pd.read_csv('drive/MyDrive/Dataset/Dataset-Sentimen-Analisis-Bahasa-Indonesia-master/dataset_tweet_sentiment_opini_film.csv')\n",
        "df_film = df_film_raw[['Sentiment', 'Text Tweet']]\n",
        "df_film.columns = ['sentiment', 'raw_text']\n",
        "df_film.head()"
      ],
      "execution_count": null,
      "outputs": [
        {
          "output_type": "execute_result",
          "data": {
            "text/html": [
              "<div>\n",
              "<style scoped>\n",
              "    .dataframe tbody tr th:only-of-type {\n",
              "        vertical-align: middle;\n",
              "    }\n",
              "\n",
              "    .dataframe tbody tr th {\n",
              "        vertical-align: top;\n",
              "    }\n",
              "\n",
              "    .dataframe thead th {\n",
              "        text-align: right;\n",
              "    }\n",
              "</style>\n",
              "<table border=\"1\" class=\"dataframe\">\n",
              "  <thead>\n",
              "    <tr style=\"text-align: right;\">\n",
              "      <th></th>\n",
              "      <th>sentiment</th>\n",
              "      <th>raw_text</th>\n",
              "    </tr>\n",
              "  </thead>\n",
              "  <tbody>\n",
              "    <tr>\n",
              "      <th>0</th>\n",
              "      <td>negative</td>\n",
              "      <td>Jelek filmnya... apalagi si ernest gak mutu bg...</td>\n",
              "    </tr>\n",
              "    <tr>\n",
              "      <th>1</th>\n",
              "      <td>negative</td>\n",
              "      <td>Film king Arthur ini film paling jelek dari se...</td>\n",
              "    </tr>\n",
              "    <tr>\n",
              "      <th>2</th>\n",
              "      <td>negative</td>\n",
              "      <td>@beexkuanlin Sepanjang film gwa berkata kasar ...</td>\n",
              "    </tr>\n",
              "    <tr>\n",
              "      <th>3</th>\n",
              "      <td>negative</td>\n",
              "      <td>Ane ga suka fast and furious..menurutku kok je...</td>\n",
              "    </tr>\n",
              "    <tr>\n",
              "      <th>4</th>\n",
              "      <td>negative</td>\n",
              "      <td>@baekhyun36 kan gua ga tau film nya, lu bilang...</td>\n",
              "    </tr>\n",
              "  </tbody>\n",
              "</table>\n",
              "</div>"
            ],
            "text/plain": [
              "  sentiment                                           raw_text\n",
              "0  negative  Jelek filmnya... apalagi si ernest gak mutu bg...\n",
              "1  negative  Film king Arthur ini film paling jelek dari se...\n",
              "2  negative  @beexkuanlin Sepanjang film gwa berkata kasar ...\n",
              "3  negative  Ane ga suka fast and furious..menurutku kok je...\n",
              "4  negative  @baekhyun36 kan gua ga tau film nya, lu bilang..."
            ]
          },
          "metadata": {},
          "execution_count": 7
        }
      ]
    },
    {
      "cell_type": "markdown",
      "metadata": {
        "id": "m8ygoeyeuWDY"
      },
      "source": [
        "Pilkada dataset"
      ]
    },
    {
      "cell_type": "code",
      "metadata": {
        "colab": {
          "base_uri": "https://localhost:8080/",
          "height": 206
        },
        "id": "R37Irp4buY6u",
        "outputId": "1b0dd409-c704-476d-81ab-c013bca1a263"
      },
      "source": [
        "df_pil_raw = pd.read_csv('drive/MyDrive/Dataset/Dataset-Sentimen-Analisis-Bahasa-Indonesia-master/dataset_tweet_sentiment_pilkada_DKI_2017.csv')\n",
        "df_pil = df_pil_raw[['Sentiment', 'Text Tweet']]\n",
        "df_pil.columns = ['sentiment', 'raw_text']\n",
        "df_pil.head()"
      ],
      "execution_count": null,
      "outputs": [
        {
          "output_type": "execute_result",
          "data": {
            "text/html": [
              "<div>\n",
              "<style scoped>\n",
              "    .dataframe tbody tr th:only-of-type {\n",
              "        vertical-align: middle;\n",
              "    }\n",
              "\n",
              "    .dataframe tbody tr th {\n",
              "        vertical-align: top;\n",
              "    }\n",
              "\n",
              "    .dataframe thead th {\n",
              "        text-align: right;\n",
              "    }\n",
              "</style>\n",
              "<table border=\"1\" class=\"dataframe\">\n",
              "  <thead>\n",
              "    <tr style=\"text-align: right;\">\n",
              "      <th></th>\n",
              "      <th>sentiment</th>\n",
              "      <th>raw_text</th>\n",
              "    </tr>\n",
              "  </thead>\n",
              "  <tbody>\n",
              "    <tr>\n",
              "      <th>0</th>\n",
              "      <td>negative</td>\n",
              "      <td>Banyak akun kloning seolah2 pendukung #agussil...</td>\n",
              "    </tr>\n",
              "    <tr>\n",
              "      <th>1</th>\n",
              "      <td>negative</td>\n",
              "      <td>#agussilvy bicara apa kasihan yaa...lap itu ai...</td>\n",
              "    </tr>\n",
              "    <tr>\n",
              "      <th>2</th>\n",
              "      <td>negative</td>\n",
              "      <td>Kalau aku sih gak nunggu hasil akhir QC tp lag...</td>\n",
              "    </tr>\n",
              "    <tr>\n",
              "      <th>3</th>\n",
              "      <td>negative</td>\n",
              "      <td>Kasian oh kasian dengan peluru 1milyar untuk t...</td>\n",
              "    </tr>\n",
              "    <tr>\n",
              "      <th>4</th>\n",
              "      <td>negative</td>\n",
              "      <td>Maaf ya pendukung #AgusSilvy..hayo dukung #Ani...</td>\n",
              "    </tr>\n",
              "  </tbody>\n",
              "</table>\n",
              "</div>"
            ],
            "text/plain": [
              "  sentiment                                           raw_text\n",
              "0  negative  Banyak akun kloning seolah2 pendukung #agussil...\n",
              "1  negative  #agussilvy bicara apa kasihan yaa...lap itu ai...\n",
              "2  negative  Kalau aku sih gak nunggu hasil akhir QC tp lag...\n",
              "3  negative  Kasian oh kasian dengan peluru 1milyar untuk t...\n",
              "4  negative  Maaf ya pendukung #AgusSilvy..hayo dukung #Ani..."
            ]
          },
          "metadata": {},
          "execution_count": 8
        }
      ]
    },
    {
      "cell_type": "markdown",
      "metadata": {
        "id": "xliV7WPjqNw6"
      },
      "source": [
        "## Concatenate all dataframes"
      ]
    },
    {
      "cell_type": "code",
      "metadata": {
        "colab": {
          "base_uri": "https://localhost:8080/",
          "height": 423
        },
        "id": "NaTZRtRFqSRq",
        "outputId": "5bec611d-81bb-492c-bd48-e7116828aed9"
      },
      "source": [
        "df = pd.concat([df_ins, df_tv, df_cell, df_film, df_pil]).reset_index()\n",
        "del df['index']\n",
        "df"
      ],
      "execution_count": null,
      "outputs": [
        {
          "output_type": "execute_result",
          "data": {
            "text/html": [
              "<div>\n",
              "<style scoped>\n",
              "    .dataframe tbody tr th:only-of-type {\n",
              "        vertical-align: middle;\n",
              "    }\n",
              "\n",
              "    .dataframe tbody tr th {\n",
              "        vertical-align: top;\n",
              "    }\n",
              "\n",
              "    .dataframe thead th {\n",
              "        text-align: right;\n",
              "    }\n",
              "</style>\n",
              "<table border=\"1\" class=\"dataframe\">\n",
              "  <thead>\n",
              "    <tr style=\"text-align: right;\">\n",
              "      <th></th>\n",
              "      <th>sentiment</th>\n",
              "      <th>raw_text</th>\n",
              "    </tr>\n",
              "  </thead>\n",
              "  <tbody>\n",
              "    <tr>\n",
              "      <th>0</th>\n",
              "      <td>negative</td>\n",
              "      <td>&lt;USERNAME&gt; TOLOL!! Gak ada hubungan nya kegug...</td>\n",
              "    </tr>\n",
              "    <tr>\n",
              "      <th>1</th>\n",
              "      <td>negative</td>\n",
              "      <td>Geblek lo tata...cowo bgt dibela2in balikan......</td>\n",
              "    </tr>\n",
              "    <tr>\n",
              "      <th>2</th>\n",
              "      <td>negative</td>\n",
              "      <td>Kmrn termewek2 skr lengket lg duhhh kok labil ...</td>\n",
              "    </tr>\n",
              "    <tr>\n",
              "      <th>3</th>\n",
              "      <td>negative</td>\n",
              "      <td>Intinya kalau kesel dengan ATT nya, gausah ke ...</td>\n",
              "    </tr>\n",
              "    <tr>\n",
              "      <th>4</th>\n",
              "      <td>negative</td>\n",
              "      <td>hadewwwww permpuan itu lg!!!!sakit jiwa,knp ha...</td>\n",
              "    </tr>\n",
              "    <tr>\n",
              "      <th>...</th>\n",
              "      <td>...</td>\n",
              "      <td>...</td>\n",
              "    </tr>\n",
              "    <tr>\n",
              "      <th>2195</th>\n",
              "      <td>positive</td>\n",
              "      <td>Kali saja bpk @aniesbaswedan @sandiuno lihat, ...</td>\n",
              "    </tr>\n",
              "    <tr>\n",
              "      <th>2196</th>\n",
              "      <td>positive</td>\n",
              "      <td>Kita harus dapat merangkul semua orang tanpa b...</td>\n",
              "    </tr>\n",
              "    <tr>\n",
              "      <th>2197</th>\n",
              "      <td>positive</td>\n",
              "      <td>Ini jagoanku dibidang digital &lt;Smiling Face Wi...</td>\n",
              "    </tr>\n",
              "    <tr>\n",
              "      <th>2198</th>\n",
              "      <td>positive</td>\n",
              "      <td>#PesanBijak #OkeOce #GubernurGu3 ...</td>\n",
              "    </tr>\n",
              "    <tr>\n",
              "      <th>2199</th>\n",
              "      <td>positive</td>\n",
              "      <td>Sandiaga: Bangun Rumah DP 0% Lebih Simpel Diba...</td>\n",
              "    </tr>\n",
              "  </tbody>\n",
              "</table>\n",
              "<p>2200 rows × 2 columns</p>\n",
              "</div>"
            ],
            "text/plain": [
              "     sentiment                                           raw_text\n",
              "0     negative   <USERNAME> TOLOL!! Gak ada hubungan nya kegug...\n",
              "1     negative  Geblek lo tata...cowo bgt dibela2in balikan......\n",
              "2     negative  Kmrn termewek2 skr lengket lg duhhh kok labil ...\n",
              "3     negative  Intinya kalau kesel dengan ATT nya, gausah ke ...\n",
              "4     negative  hadewwwww permpuan itu lg!!!!sakit jiwa,knp ha...\n",
              "...        ...                                                ...\n",
              "2195  positive  Kali saja bpk @aniesbaswedan @sandiuno lihat, ...\n",
              "2196  positive  Kita harus dapat merangkul semua orang tanpa b...\n",
              "2197  positive  Ini jagoanku dibidang digital <Smiling Face Wi...\n",
              "2198  positive               #PesanBijak #OkeOce #GubernurGu3 ...\n",
              "2199  positive  Sandiaga: Bangun Rumah DP 0% Lebih Simpel Diba...\n",
              "\n",
              "[2200 rows x 2 columns]"
            ]
          },
          "metadata": {},
          "execution_count": 9
        }
      ]
    },
    {
      "cell_type": "markdown",
      "metadata": {
        "id": "t0frMKfBvS--"
      },
      "source": [
        "## Cleaning dataset"
      ]
    },
    {
      "cell_type": "markdown",
      "metadata": {
        "id": "XCmDQqxGvcZY"
      },
      "source": [
        "### Clean multiple spaces"
      ]
    },
    {
      "cell_type": "code",
      "metadata": {
        "colab": {
          "base_uri": "https://localhost:8080/",
          "height": 206
        },
        "id": "_FRcfakwva1_",
        "outputId": "7e3558f8-ed56-4c13-8319-91b9c38ce0f2"
      },
      "source": [
        "df['raw_text'] = clean_multiple_space(df['raw_text'])\n",
        "df.head()"
      ],
      "execution_count": null,
      "outputs": [
        {
          "output_type": "execute_result",
          "data": {
            "text/html": [
              "<div>\n",
              "<style scoped>\n",
              "    .dataframe tbody tr th:only-of-type {\n",
              "        vertical-align: middle;\n",
              "    }\n",
              "\n",
              "    .dataframe tbody tr th {\n",
              "        vertical-align: top;\n",
              "    }\n",
              "\n",
              "    .dataframe thead th {\n",
              "        text-align: right;\n",
              "    }\n",
              "</style>\n",
              "<table border=\"1\" class=\"dataframe\">\n",
              "  <thead>\n",
              "    <tr style=\"text-align: right;\">\n",
              "      <th></th>\n",
              "      <th>sentiment</th>\n",
              "      <th>raw_text</th>\n",
              "    </tr>\n",
              "  </thead>\n",
              "  <tbody>\n",
              "    <tr>\n",
              "      <th>0</th>\n",
              "      <td>negative</td>\n",
              "      <td>&lt;USERNAME&gt; TOLOL!! Gak ada hubungan nya kegug...</td>\n",
              "    </tr>\n",
              "    <tr>\n",
              "      <th>1</th>\n",
              "      <td>negative</td>\n",
              "      <td>Geblek lo tata...cowo bgt dibela2in balikan......</td>\n",
              "    </tr>\n",
              "    <tr>\n",
              "      <th>2</th>\n",
              "      <td>negative</td>\n",
              "      <td>Kmrn termewek2 skr lengket lg duhhh kok labil ...</td>\n",
              "    </tr>\n",
              "    <tr>\n",
              "      <th>3</th>\n",
              "      <td>negative</td>\n",
              "      <td>Intinya kalau kesel dengan ATT nya, gausah ke ...</td>\n",
              "    </tr>\n",
              "    <tr>\n",
              "      <th>4</th>\n",
              "      <td>negative</td>\n",
              "      <td>hadewwwww permpuan itu lg!!!!sakit jiwa,knp ha...</td>\n",
              "    </tr>\n",
              "  </tbody>\n",
              "</table>\n",
              "</div>"
            ],
            "text/plain": [
              "  sentiment                                           raw_text\n",
              "0  negative   <USERNAME> TOLOL!! Gak ada hubungan nya kegug...\n",
              "1  negative  Geblek lo tata...cowo bgt dibela2in balikan......\n",
              "2  negative  Kmrn termewek2 skr lengket lg duhhh kok labil ...\n",
              "3  negative  Intinya kalau kesel dengan ATT nya, gausah ke ...\n",
              "4  negative  hadewwwww permpuan itu lg!!!!sakit jiwa,knp ha..."
            ]
          },
          "metadata": {},
          "execution_count": 10
        }
      ]
    },
    {
      "cell_type": "markdown",
      "metadata": {
        "id": "7WMcTQrCvuPW"
      },
      "source": [
        "### Clean the punctuations"
      ]
    },
    {
      "cell_type": "code",
      "metadata": {
        "colab": {
          "base_uri": "https://localhost:8080/",
          "height": 206
        },
        "id": "4eE40Yj6vyEB",
        "outputId": "5222a9e4-2dd1-4f96-f035-c90a6fed93ad"
      },
      "source": [
        "df['raw_text'] = clean_punctuation(df['raw_text'])\n",
        "df['raw_text'] = df['raw_text'].str.replace('_', '')\n",
        "df.head()"
      ],
      "execution_count": null,
      "outputs": [
        {
          "output_type": "execute_result",
          "data": {
            "text/html": [
              "<div>\n",
              "<style scoped>\n",
              "    .dataframe tbody tr th:only-of-type {\n",
              "        vertical-align: middle;\n",
              "    }\n",
              "\n",
              "    .dataframe tbody tr th {\n",
              "        vertical-align: top;\n",
              "    }\n",
              "\n",
              "    .dataframe thead th {\n",
              "        text-align: right;\n",
              "    }\n",
              "</style>\n",
              "<table border=\"1\" class=\"dataframe\">\n",
              "  <thead>\n",
              "    <tr style=\"text-align: right;\">\n",
              "      <th></th>\n",
              "      <th>sentiment</th>\n",
              "      <th>raw_text</th>\n",
              "    </tr>\n",
              "  </thead>\n",
              "  <tbody>\n",
              "    <tr>\n",
              "      <th>0</th>\n",
              "      <td>negative</td>\n",
              "      <td>USERNAME TOLOL Gak ada hubungan nya keguguran...</td>\n",
              "    </tr>\n",
              "    <tr>\n",
              "      <th>1</th>\n",
              "      <td>negative</td>\n",
              "      <td>Geblek lo tatacowo bgt dibela2in balikanhadeww...</td>\n",
              "    </tr>\n",
              "    <tr>\n",
              "      <th>2</th>\n",
              "      <td>negative</td>\n",
              "      <td>Kmrn termewek2 skr lengket lg duhhh kok labil ...</td>\n",
              "    </tr>\n",
              "    <tr>\n",
              "      <th>3</th>\n",
              "      <td>negative</td>\n",
              "      <td>Intinya kalau kesel dengan ATT nya gausah ke a...</td>\n",
              "    </tr>\n",
              "    <tr>\n",
              "      <th>4</th>\n",
              "      <td>negative</td>\n",
              "      <td>hadewwwww permpuan itu lgsakit jiwaknp harus d...</td>\n",
              "    </tr>\n",
              "  </tbody>\n",
              "</table>\n",
              "</div>"
            ],
            "text/plain": [
              "  sentiment                                           raw_text\n",
              "0  negative   USERNAME TOLOL Gak ada hubungan nya keguguran...\n",
              "1  negative  Geblek lo tatacowo bgt dibela2in balikanhadeww...\n",
              "2  negative  Kmrn termewek2 skr lengket lg duhhh kok labil ...\n",
              "3  negative  Intinya kalau kesel dengan ATT nya gausah ke a...\n",
              "4  negative  hadewwwww permpuan itu lgsakit jiwaknp harus d..."
            ]
          },
          "metadata": {},
          "execution_count": 11
        }
      ]
    },
    {
      "cell_type": "markdown",
      "metadata": {
        "id": "V5_YxhiIv1MX"
      },
      "source": [
        "### All lowercase"
      ]
    },
    {
      "cell_type": "code",
      "metadata": {
        "colab": {
          "base_uri": "https://localhost:8080/",
          "height": 206
        },
        "id": "PQvnmqVjv0rk",
        "outputId": "b278cb6e-5775-4f78-b237-9e241be4c510"
      },
      "source": [
        "df['raw_text'] = lowercase(df['raw_text'])\n",
        "df.head()"
      ],
      "execution_count": null,
      "outputs": [
        {
          "output_type": "execute_result",
          "data": {
            "text/html": [
              "<div>\n",
              "<style scoped>\n",
              "    .dataframe tbody tr th:only-of-type {\n",
              "        vertical-align: middle;\n",
              "    }\n",
              "\n",
              "    .dataframe tbody tr th {\n",
              "        vertical-align: top;\n",
              "    }\n",
              "\n",
              "    .dataframe thead th {\n",
              "        text-align: right;\n",
              "    }\n",
              "</style>\n",
              "<table border=\"1\" class=\"dataframe\">\n",
              "  <thead>\n",
              "    <tr style=\"text-align: right;\">\n",
              "      <th></th>\n",
              "      <th>sentiment</th>\n",
              "      <th>raw_text</th>\n",
              "    </tr>\n",
              "  </thead>\n",
              "  <tbody>\n",
              "    <tr>\n",
              "      <th>0</th>\n",
              "      <td>negative</td>\n",
              "      <td>username tolol gak ada hubungan nya keguguran...</td>\n",
              "    </tr>\n",
              "    <tr>\n",
              "      <th>1</th>\n",
              "      <td>negative</td>\n",
              "      <td>geblek lo tatacowo bgt dibela2in balikanhadeww...</td>\n",
              "    </tr>\n",
              "    <tr>\n",
              "      <th>2</th>\n",
              "      <td>negative</td>\n",
              "      <td>kmrn termewek2 skr lengket lg duhhh kok labil ...</td>\n",
              "    </tr>\n",
              "    <tr>\n",
              "      <th>3</th>\n",
              "      <td>negative</td>\n",
              "      <td>intinya kalau kesel dengan att nya gausah ke a...</td>\n",
              "    </tr>\n",
              "    <tr>\n",
              "      <th>4</th>\n",
              "      <td>negative</td>\n",
              "      <td>hadewwwww permpuan itu lgsakit jiwaknp harus d...</td>\n",
              "    </tr>\n",
              "  </tbody>\n",
              "</table>\n",
              "</div>"
            ],
            "text/plain": [
              "  sentiment                                           raw_text\n",
              "0  negative   username tolol gak ada hubungan nya keguguran...\n",
              "1  negative  geblek lo tatacowo bgt dibela2in balikanhadeww...\n",
              "2  negative  kmrn termewek2 skr lengket lg duhhh kok labil ...\n",
              "3  negative  intinya kalau kesel dengan att nya gausah ke a...\n",
              "4  negative  hadewwwww permpuan itu lgsakit jiwaknp harus d..."
            ]
          },
          "metadata": {},
          "execution_count": 12
        }
      ]
    },
    {
      "cell_type": "code",
      "metadata": {
        "id": "rCShnRuKNiy1"
      },
      "source": [
        "df.to_csv('drive/MyDrive/Dataset/Dataset-Sentimen-Analisis-Bahasa-Indonesia-master/dataset_full.csv')"
      ],
      "execution_count": null,
      "outputs": []
    },
    {
      "cell_type": "markdown",
      "metadata": {
        "id": "j2EC09AdOkqn"
      },
      "source": [
        "## Stopword"
      ]
    },
    {
      "cell_type": "markdown",
      "metadata": {
        "id": "eZ87jifDOq2T"
      },
      "source": [
        "### Stopword by NLTK\n"
      ]
    },
    {
      "cell_type": "code",
      "metadata": {
        "id": "ZrVF-zn7Ltxp"
      },
      "source": [
        "nltk_stopwords = stopwords.words('indonesian')"
      ],
      "execution_count": null,
      "outputs": []
    },
    {
      "cell_type": "code",
      "metadata": {
        "colab": {
          "base_uri": "https://localhost:8080/",
          "height": 292
        },
        "id": "IuFa2tdEO-FR",
        "outputId": "0518138f-4a70-4bfd-f486-1eb00e771ee9"
      },
      "source": [
        "df['nltk_stp'] = df['raw_text'].apply(lambda x : ' '.join(x for x in x.split() if x not in nltk_stopwords))\n",
        "df.head()"
      ],
      "execution_count": null,
      "outputs": [
        {
          "output_type": "execute_result",
          "data": {
            "text/html": [
              "<div>\n",
              "<style scoped>\n",
              "    .dataframe tbody tr th:only-of-type {\n",
              "        vertical-align: middle;\n",
              "    }\n",
              "\n",
              "    .dataframe tbody tr th {\n",
              "        vertical-align: top;\n",
              "    }\n",
              "\n",
              "    .dataframe thead th {\n",
              "        text-align: right;\n",
              "    }\n",
              "</style>\n",
              "<table border=\"1\" class=\"dataframe\">\n",
              "  <thead>\n",
              "    <tr style=\"text-align: right;\">\n",
              "      <th></th>\n",
              "      <th>sentiment</th>\n",
              "      <th>raw_text</th>\n",
              "      <th>nltk_stp</th>\n",
              "    </tr>\n",
              "  </thead>\n",
              "  <tbody>\n",
              "    <tr>\n",
              "      <th>0</th>\n",
              "      <td>negative</td>\n",
              "      <td>username tolol gak ada hubungan nya keguguran...</td>\n",
              "      <td>username tolol gak hubungan nya keguguran dgn ...</td>\n",
              "    </tr>\n",
              "    <tr>\n",
              "      <th>1</th>\n",
              "      <td>negative</td>\n",
              "      <td>geblek lo tatacowo bgt dibela2in balikanhadeww...</td>\n",
              "      <td>geblek lo tatacowo bgt dibela2in balikanhadeww...</td>\n",
              "    </tr>\n",
              "    <tr>\n",
              "      <th>2</th>\n",
              "      <td>negative</td>\n",
              "      <td>kmrn termewek2 skr lengket lg duhhh kok labil ...</td>\n",
              "      <td>kmrn termewek2 skr lengket lg duhhh labil bgt ...</td>\n",
              "    </tr>\n",
              "    <tr>\n",
              "      <th>3</th>\n",
              "      <td>negative</td>\n",
              "      <td>intinya kalau kesel dengan att nya gausah ke a...</td>\n",
              "      <td>intinya kesel att nya gausah anaknya kasian pe...</td>\n",
              "    </tr>\n",
              "    <tr>\n",
              "      <th>4</th>\n",
              "      <td>negative</td>\n",
              "      <td>hadewwwww permpuan itu lgsakit jiwaknp harus d...</td>\n",
              "      <td>hadewwwww permpuan lgsakit jiwaknp yg jd peran...</td>\n",
              "    </tr>\n",
              "  </tbody>\n",
              "</table>\n",
              "</div>"
            ],
            "text/plain": [
              "  sentiment  ...                                           nltk_stp\n",
              "0  negative  ...  username tolol gak hubungan nya keguguran dgn ...\n",
              "1  negative  ...  geblek lo tatacowo bgt dibela2in balikanhadeww...\n",
              "2  negative  ...  kmrn termewek2 skr lengket lg duhhh labil bgt ...\n",
              "3  negative  ...  intinya kesel att nya gausah anaknya kasian pe...\n",
              "4  negative  ...  hadewwwww permpuan lgsakit jiwaknp yg jd peran...\n",
              "\n",
              "[5 rows x 3 columns]"
            ]
          },
          "metadata": {},
          "execution_count": 15
        }
      ]
    },
    {
      "cell_type": "markdown",
      "metadata": {
        "id": "6GQ1ngsSPgEi"
      },
      "source": [
        "### Stopword by Sastrawi"
      ]
    },
    {
      "cell_type": "code",
      "metadata": {
        "id": "TisT5wl9PfKW"
      },
      "source": [
        "sastrawi = StopWordRemoverFactory()\n",
        "sastrawi_stopwords = sastrawi.create_stop_word_remover()"
      ],
      "execution_count": null,
      "outputs": []
    },
    {
      "cell_type": "code",
      "metadata": {
        "colab": {
          "base_uri": "https://localhost:8080/",
          "height": 379
        },
        "id": "2i2AR0R7P10l",
        "outputId": "93844c73-0946-4cfb-d24b-b5828bfaa836"
      },
      "source": [
        "df['sastrawi_stp'] = df['raw_text'].apply(lambda x : ' '.join(sastrawi_stopwords.remove(x) for x in x.split()))\n",
        "df.head()"
      ],
      "execution_count": null,
      "outputs": [
        {
          "output_type": "execute_result",
          "data": {
            "text/html": [
              "<div>\n",
              "<style scoped>\n",
              "    .dataframe tbody tr th:only-of-type {\n",
              "        vertical-align: middle;\n",
              "    }\n",
              "\n",
              "    .dataframe tbody tr th {\n",
              "        vertical-align: top;\n",
              "    }\n",
              "\n",
              "    .dataframe thead th {\n",
              "        text-align: right;\n",
              "    }\n",
              "</style>\n",
              "<table border=\"1\" class=\"dataframe\">\n",
              "  <thead>\n",
              "    <tr style=\"text-align: right;\">\n",
              "      <th></th>\n",
              "      <th>sentiment</th>\n",
              "      <th>raw_text</th>\n",
              "      <th>nltk_stp</th>\n",
              "      <th>sastrawi_stp</th>\n",
              "    </tr>\n",
              "  </thead>\n",
              "  <tbody>\n",
              "    <tr>\n",
              "      <th>0</th>\n",
              "      <td>negative</td>\n",
              "      <td>username tolol gak ada hubungan nya keguguran...</td>\n",
              "      <td>username tolol gak hubungan nya keguguran dgn ...</td>\n",
              "      <td>username tolol gak  hubungan nya keguguran dgn...</td>\n",
              "    </tr>\n",
              "    <tr>\n",
              "      <th>1</th>\n",
              "      <td>negative</td>\n",
              "      <td>geblek lo tatacowo bgt dibela2in balikanhadeww...</td>\n",
              "      <td>geblek lo tatacowo bgt dibela2in balikanhadeww...</td>\n",
              "      <td>geblek lo tatacowo bgt dibela2in balikanhadeww...</td>\n",
              "    </tr>\n",
              "    <tr>\n",
              "      <th>2</th>\n",
              "      <td>negative</td>\n",
              "      <td>kmrn termewek2 skr lengket lg duhhh kok labil ...</td>\n",
              "      <td>kmrn termewek2 skr lengket lg duhhh labil bgt ...</td>\n",
              "      <td>kmrn termewek2 skr lengket lg duhhh kok labil ...</td>\n",
              "    </tr>\n",
              "    <tr>\n",
              "      <th>3</th>\n",
              "      <td>negative</td>\n",
              "      <td>intinya kalau kesel dengan att nya gausah ke a...</td>\n",
              "      <td>intinya kesel att nya gausah anaknya kasian pe...</td>\n",
              "      <td>intinya kalau kesel  att nya gausah  anaknya  ...</td>\n",
              "    </tr>\n",
              "    <tr>\n",
              "      <th>4</th>\n",
              "      <td>negative</td>\n",
              "      <td>hadewwwww permpuan itu lgsakit jiwaknp harus d...</td>\n",
              "      <td>hadewwwww permpuan lgsakit jiwaknp yg jd peran...</td>\n",
              "      <td>hadewwwww permpuan  lgsakit jiwaknp   yg jd pe...</td>\n",
              "    </tr>\n",
              "  </tbody>\n",
              "</table>\n",
              "</div>"
            ],
            "text/plain": [
              "  sentiment  ...                                       sastrawi_stp\n",
              "0  negative  ...  username tolol gak  hubungan nya keguguran dgn...\n",
              "1  negative  ...  geblek lo tatacowo bgt dibela2in balikanhadeww...\n",
              "2  negative  ...  kmrn termewek2 skr lengket lg duhhh kok labil ...\n",
              "3  negative  ...  intinya kalau kesel  att nya gausah  anaknya  ...\n",
              "4  negative  ...  hadewwwww permpuan  lgsakit jiwaknp   yg jd pe...\n",
              "\n",
              "[5 rows x 4 columns]"
            ]
          },
          "metadata": {},
          "execution_count": 17
        }
      ]
    },
    {
      "cell_type": "code",
      "metadata": {
        "id": "4ZWYqHauD-Oc"
      },
      "source": [
        "df.to_csv('drive/MyDrive/Dataset/Dataset-Sentimen-Analisis-Bahasa-Indonesia-master/dataset_full.csv')"
      ],
      "execution_count": null,
      "outputs": []
    },
    {
      "cell_type": "markdown",
      "metadata": {
        "id": "4RKvR60vT8o-"
      },
      "source": [
        "## Pre-processing dataset"
      ]
    },
    {
      "cell_type": "markdown",
      "metadata": {
        "id": "ff1O3COCTt9o"
      },
      "source": [
        "### Encoding label\n"
      ]
    },
    {
      "cell_type": "code",
      "metadata": {
        "colab": {
          "base_uri": "https://localhost:8080/",
          "height": 396
        },
        "id": "7QVhsqxET48t",
        "outputId": "a8a7b92d-0964-4164-f7bb-5d76e2c2f53a"
      },
      "source": [
        "LE = LabelEncoder()\n",
        "\n",
        "df['encoded label'] = LE.fit_transform(df['sentiment'])\n",
        "df.head()"
      ],
      "execution_count": null,
      "outputs": [
        {
          "output_type": "execute_result",
          "data": {
            "text/html": [
              "<div>\n",
              "<style scoped>\n",
              "    .dataframe tbody tr th:only-of-type {\n",
              "        vertical-align: middle;\n",
              "    }\n",
              "\n",
              "    .dataframe tbody tr th {\n",
              "        vertical-align: top;\n",
              "    }\n",
              "\n",
              "    .dataframe thead th {\n",
              "        text-align: right;\n",
              "    }\n",
              "</style>\n",
              "<table border=\"1\" class=\"dataframe\">\n",
              "  <thead>\n",
              "    <tr style=\"text-align: right;\">\n",
              "      <th></th>\n",
              "      <th>sentiment</th>\n",
              "      <th>raw_text</th>\n",
              "      <th>nltk_stp</th>\n",
              "      <th>sastrawi_stp</th>\n",
              "      <th>encoded label</th>\n",
              "    </tr>\n",
              "  </thead>\n",
              "  <tbody>\n",
              "    <tr>\n",
              "      <th>0</th>\n",
              "      <td>negative</td>\n",
              "      <td>username tolol gak ada hubungan nya keguguran...</td>\n",
              "      <td>username tolol gak hubungan nya keguguran dgn ...</td>\n",
              "      <td>username tolol gak  hubungan nya keguguran dgn...</td>\n",
              "      <td>0</td>\n",
              "    </tr>\n",
              "    <tr>\n",
              "      <th>1</th>\n",
              "      <td>negative</td>\n",
              "      <td>geblek lo tatacowo bgt dibela2in balikanhadeww...</td>\n",
              "      <td>geblek lo tatacowo bgt dibela2in balikanhadeww...</td>\n",
              "      <td>geblek lo tatacowo bgt dibela2in balikanhadeww...</td>\n",
              "      <td>0</td>\n",
              "    </tr>\n",
              "    <tr>\n",
              "      <th>2</th>\n",
              "      <td>negative</td>\n",
              "      <td>kmrn termewek2 skr lengket lg duhhh kok labil ...</td>\n",
              "      <td>kmrn termewek2 skr lengket lg duhhh labil bgt ...</td>\n",
              "      <td>kmrn termewek2 skr lengket lg duhhh kok labil ...</td>\n",
              "      <td>0</td>\n",
              "    </tr>\n",
              "    <tr>\n",
              "      <th>3</th>\n",
              "      <td>negative</td>\n",
              "      <td>intinya kalau kesel dengan att nya gausah ke a...</td>\n",
              "      <td>intinya kesel att nya gausah anaknya kasian pe...</td>\n",
              "      <td>intinya kalau kesel  att nya gausah  anaknya  ...</td>\n",
              "      <td>0</td>\n",
              "    </tr>\n",
              "    <tr>\n",
              "      <th>4</th>\n",
              "      <td>negative</td>\n",
              "      <td>hadewwwww permpuan itu lgsakit jiwaknp harus d...</td>\n",
              "      <td>hadewwwww permpuan lgsakit jiwaknp yg jd peran...</td>\n",
              "      <td>hadewwwww permpuan  lgsakit jiwaknp   yg jd pe...</td>\n",
              "      <td>0</td>\n",
              "    </tr>\n",
              "  </tbody>\n",
              "</table>\n",
              "</div>"
            ],
            "text/plain": [
              "  sentiment  ... encoded label\n",
              "0  negative  ...             0\n",
              "1  negative  ...             0\n",
              "2  negative  ...             0\n",
              "3  negative  ...             0\n",
              "4  negative  ...             0\n",
              "\n",
              "[5 rows x 5 columns]"
            ]
          },
          "metadata": {},
          "execution_count": 19
        }
      ]
    },
    {
      "cell_type": "markdown",
      "metadata": {
        "id": "EkY4_cVWUfWe"
      },
      "source": [
        "### Split dataset"
      ]
    },
    {
      "cell_type": "code",
      "metadata": {
        "colab": {
          "base_uri": "https://localhost:8080/"
        },
        "id": "kyPN-YuqUi1Y",
        "outputId": "5c9df27a-cd3d-4d6d-8231-b505c7a5fe9d"
      },
      "source": [
        "train, test = train_test_split(df, test_size = 0.2)\n",
        "print('Train size : ', train.shape)\n",
        "print('Test size : ', test.shape)"
      ],
      "execution_count": null,
      "outputs": [
        {
          "output_type": "stream",
          "name": "stdout",
          "text": [
            "Train size :  (1760, 5)\n",
            "Test size :  (440, 5)\n"
          ]
        }
      ]
    },
    {
      "cell_type": "markdown",
      "metadata": {
        "id": "xXvxDK7lTSlr"
      },
      "source": [
        "## SVM Classifier"
      ]
    },
    {
      "cell_type": "markdown",
      "metadata": {
        "id": "_7PitdtKV6RY"
      },
      "source": [
        "Create x_train and y_train"
      ]
    },
    {
      "cell_type": "code",
      "metadata": {
        "id": "GwBdJx7vTXyX"
      },
      "source": [
        "# x_train\n",
        "count_vect = CountVectorizer()\n",
        "x_vect = count_vect.fit_transform(train['raw_text'])\n",
        "tfidf = TfidfTransformer()\n",
        "x_train = tfidf.fit_transform(x_vect)\n",
        "\n",
        "# y_train\n",
        "y_train = train['encoded label']"
      ],
      "execution_count": null,
      "outputs": []
    },
    {
      "cell_type": "markdown",
      "metadata": {
        "id": "xdMk763SX0ii"
      },
      "source": [
        "Create x_test and y_test"
      ]
    },
    {
      "cell_type": "code",
      "metadata": {
        "id": "r3DQU85pX6Nc"
      },
      "source": [
        "# x_test\n",
        "x = count_vect.transform(test['raw_text'])\n",
        "x_test = tfidf.transform(x)\n",
        "\n",
        "# y_test\n",
        "y_test = test['encoded label']"
      ],
      "execution_count": null,
      "outputs": []
    },
    {
      "cell_type": "markdown",
      "metadata": {
        "id": "IReWXZplW_sL"
      },
      "source": [
        "Generate SVM model"
      ]
    },
    {
      "cell_type": "code",
      "metadata": {
        "colab": {
          "base_uri": "https://localhost:8080/"
        },
        "id": "-b2sEAPiWmzx",
        "outputId": "50150fc0-fe9a-42ad-ca94-c28f372d66ba"
      },
      "source": [
        "svc = SVC(kernel = 'linear')\n",
        "svc.fit(x_train, y_train)"
      ],
      "execution_count": null,
      "outputs": [
        {
          "output_type": "execute_result",
          "data": {
            "text/plain": [
              "SVC(C=1.0, break_ties=False, cache_size=200, class_weight=None, coef0=0.0,\n",
              "    decision_function_shape='ovr', degree=3, gamma='scale', kernel='linear',\n",
              "    max_iter=-1, probability=False, random_state=None, shrinking=True,\n",
              "    tol=0.001, verbose=False)"
            ]
          },
          "metadata": {},
          "execution_count": 23
        }
      ]
    },
    {
      "cell_type": "markdown",
      "metadata": {
        "id": "yIwC8JbNy6hU"
      },
      "source": [
        "Testing and scoring"
      ]
    },
    {
      "cell_type": "code",
      "metadata": {
        "id": "cUKB8UO-zFPy"
      },
      "source": [
        "svm_pred = svc.predict(x_test)"
      ],
      "execution_count": null,
      "outputs": []
    },
    {
      "cell_type": "code",
      "metadata": {
        "colab": {
          "base_uri": "https://localhost:8080/"
        },
        "id": "vGQWZcagY3kL",
        "outputId": "04980374-1efb-4977-d236-a5140b1e141b"
      },
      "source": [
        "print('Final accuracy score : {}'.format(accuracy_score(svm_pred, y_test) * 100))"
      ],
      "execution_count": null,
      "outputs": [
        {
          "output_type": "stream",
          "name": "stdout",
          "text": [
            "Final accuracy score : 77.95454545454545\n"
          ]
        }
      ]
    }
  ]
}